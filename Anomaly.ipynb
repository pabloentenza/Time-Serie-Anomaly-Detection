{
 "cells": [
  {
   "attachments": {},
   "cell_type": "markdown",
   "id": "db592301",
   "metadata": {},
   "source": [
    "**Anomaly Detection**: \n",
    "\n",
    "The present project can be found by clicking the following link:\n",
    "\n",
    "https://www.kaggle.com/competitions/anomaly-detection"
   ]
  },
  {
   "cell_type": "code",
   "execution_count": 1,
   "id": "4f936c16-f8d1-460d-8d45-57391258dec2",
   "metadata": {},
   "outputs": [],
   "source": [
    "import pandas as pd\n",
    "import numpy as np\n",
    "import datetime as dt\n",
    "import matplotlib.pyplot as plt\n",
    "import seaborn as sns\n",
    "\n",
    "#_______Scaling_______________\n",
    "from sklearn.preprocessing import StandardScaler, RobustScaler\n",
    "\n",
    "#___________Clasification________________\n",
    "from sklearn.linear_model import LogisticRegression\n",
    "from sklearn.svm import SVC \n",
    "from sklearn.tree import DecisionTreeClassifier\n",
    "from sklearn.ensemble import RandomForestClassifier\n",
    "\n",
    "#______Metric___________\n",
    "from sklearn.metrics import confusion_matrix\n",
    "from sklearn.metrics import f1_score"
   ]
  },
  {
   "cell_type": "code",
   "execution_count": 2,
   "id": "83127860-c7b1-4415-827a-7900977e4da1",
   "metadata": {},
   "outputs": [
    {
     "data": {
      "text/html": [
       "<div>\n",
       "<style scoped>\n",
       "    .dataframe tbody tr th:only-of-type {\n",
       "        vertical-align: middle;\n",
       "    }\n",
       "\n",
       "    .dataframe tbody tr th {\n",
       "        vertical-align: top;\n",
       "    }\n",
       "\n",
       "    .dataframe thead th {\n",
       "        text-align: right;\n",
       "    }\n",
       "</style>\n",
       "<table border=\"1\" class=\"dataframe\">\n",
       "  <thead>\n",
       "    <tr style=\"text-align: right;\">\n",
       "      <th></th>\n",
       "      <th>timestamp</th>\n",
       "      <th>value</th>\n",
       "      <th>is_anomaly</th>\n",
       "      <th>predicted</th>\n",
       "    </tr>\n",
       "  </thead>\n",
       "  <tbody>\n",
       "    <tr>\n",
       "      <th>0</th>\n",
       "      <td>1425008573</td>\n",
       "      <td>42</td>\n",
       "      <td>False</td>\n",
       "      <td>44.072500</td>\n",
       "    </tr>\n",
       "    <tr>\n",
       "      <th>1</th>\n",
       "      <td>1425008873</td>\n",
       "      <td>41</td>\n",
       "      <td>False</td>\n",
       "      <td>50.709390</td>\n",
       "    </tr>\n",
       "    <tr>\n",
       "      <th>2</th>\n",
       "      <td>1425009173</td>\n",
       "      <td>41</td>\n",
       "      <td>False</td>\n",
       "      <td>81.405120</td>\n",
       "    </tr>\n",
       "    <tr>\n",
       "      <th>3</th>\n",
       "      <td>1425009473</td>\n",
       "      <td>61</td>\n",
       "      <td>False</td>\n",
       "      <td>39.950367</td>\n",
       "    </tr>\n",
       "    <tr>\n",
       "      <th>4</th>\n",
       "      <td>1425009773</td>\n",
       "      <td>44</td>\n",
       "      <td>False</td>\n",
       "      <td>35.350160</td>\n",
       "    </tr>\n",
       "  </tbody>\n",
       "</table>\n",
       "</div>"
      ],
      "text/plain": [
       "    timestamp  value  is_anomaly  predicted\n",
       "0  1425008573     42       False  44.072500\n",
       "1  1425008873     41       False  50.709390\n",
       "2  1425009173     41       False  81.405120\n",
       "3  1425009473     61       False  39.950367\n",
       "4  1425009773     44       False  35.350160"
      ]
     },
     "execution_count": 2,
     "metadata": {},
     "output_type": "execute_result"
    }
   ],
   "source": [
    "df = pd.read_csv(\"anomaly_csv.csv\")\n",
    "df.head()"
   ]
  },
  {
   "cell_type": "code",
   "execution_count": 3,
   "id": "1d600ec7-649e-4b67-bc18-26bc20e0411d",
   "metadata": {},
   "outputs": [
    {
     "data": {
      "text/plain": [
       "timestamp     0\n",
       "value         0\n",
       "is_anomaly    0\n",
       "predicted     0\n",
       "dtype: int64"
      ]
     },
     "execution_count": 3,
     "metadata": {},
     "output_type": "execute_result"
    }
   ],
   "source": [
    "(df\n",
    "    .isnull()\n",
    "    .sum() \n",
    ")"
   ]
  },
  {
   "cell_type": "code",
   "execution_count": 4,
   "id": "f2f37128-9a59-4374-8c9d-b02a056dab10",
   "metadata": {},
   "outputs": [
    {
     "name": "stdout",
     "output_type": "stream",
     "text": [
      "<class 'pandas.core.frame.DataFrame'>\n",
      "RangeIndex: 15830 entries, 0 to 15829\n",
      "Data columns (total 4 columns):\n",
      " #   Column      Non-Null Count  Dtype  \n",
      "---  ------      --------------  -----  \n",
      " 0   timestamp   15830 non-null  int64  \n",
      " 1   value       15830 non-null  int64  \n",
      " 2   is_anomaly  15830 non-null  bool   \n",
      " 3   predicted   15830 non-null  float64\n",
      "dtypes: bool(1), float64(1), int64(2)\n",
      "memory usage: 386.6 KB\n"
     ]
    }
   ],
   "source": [
    "df.info()"
   ]
  },
  {
   "attachments": {},
   "cell_type": "markdown",
   "id": "b3e44f09",
   "metadata": {},
   "source": [
    "**We inicialize the timestamp to zero and set it as the index**"
   ]
  },
  {
   "cell_type": "code",
   "execution_count": 5,
   "id": "bd3c703b-b19f-4aa0-9490-760f829718c9",
   "metadata": {},
   "outputs": [],
   "source": [
    "df.timestamp = df.timestamp-df.timestamp[0]\n",
    "df= df.set_index(\"timestamp\")"
   ]
  },
  {
   "cell_type": "code",
   "execution_count": 6,
   "id": "92b345c3-c08b-499a-a304-ff5eab0d4456",
   "metadata": {},
   "outputs": [
    {
     "data": {
      "text/html": [
       "<div>\n",
       "<style scoped>\n",
       "    .dataframe tbody tr th:only-of-type {\n",
       "        vertical-align: middle;\n",
       "    }\n",
       "\n",
       "    .dataframe tbody tr th {\n",
       "        vertical-align: top;\n",
       "    }\n",
       "\n",
       "    .dataframe thead th {\n",
       "        text-align: right;\n",
       "    }\n",
       "</style>\n",
       "<table border=\"1\" class=\"dataframe\">\n",
       "  <thead>\n",
       "    <tr style=\"text-align: right;\">\n",
       "      <th></th>\n",
       "      <th>value</th>\n",
       "      <th>is_anomaly</th>\n",
       "      <th>predicted</th>\n",
       "    </tr>\n",
       "    <tr>\n",
       "      <th>timestamp</th>\n",
       "      <th></th>\n",
       "      <th></th>\n",
       "      <th></th>\n",
       "    </tr>\n",
       "  </thead>\n",
       "  <tbody>\n",
       "    <tr>\n",
       "      <th>0</th>\n",
       "      <td>42</td>\n",
       "      <td>False</td>\n",
       "      <td>44.072500</td>\n",
       "    </tr>\n",
       "    <tr>\n",
       "      <th>300</th>\n",
       "      <td>41</td>\n",
       "      <td>False</td>\n",
       "      <td>50.709390</td>\n",
       "    </tr>\n",
       "    <tr>\n",
       "      <th>600</th>\n",
       "      <td>41</td>\n",
       "      <td>False</td>\n",
       "      <td>81.405120</td>\n",
       "    </tr>\n",
       "    <tr>\n",
       "      <th>900</th>\n",
       "      <td>61</td>\n",
       "      <td>False</td>\n",
       "      <td>39.950367</td>\n",
       "    </tr>\n",
       "    <tr>\n",
       "      <th>1200</th>\n",
       "      <td>44</td>\n",
       "      <td>False</td>\n",
       "      <td>35.350160</td>\n",
       "    </tr>\n",
       "  </tbody>\n",
       "</table>\n",
       "</div>"
      ],
      "text/plain": [
       "           value  is_anomaly  predicted\n",
       "timestamp                              \n",
       "0             42       False  44.072500\n",
       "300           41       False  50.709390\n",
       "600           41       False  81.405120\n",
       "900           61       False  39.950367\n",
       "1200          44       False  35.350160"
      ]
     },
     "execution_count": 6,
     "metadata": {},
     "output_type": "execute_result"
    }
   ],
   "source": [
    "df.head()"
   ]
  },
  {
   "cell_type": "code",
   "execution_count": 7,
   "id": "a80230b3-cf6a-4bba-956e-e409c925e511",
   "metadata": {},
   "outputs": [
    {
     "data": {
      "text/plain": [
       "0"
      ]
     },
     "execution_count": 7,
     "metadata": {},
     "output_type": "execute_result"
    }
   ],
   "source": [
    "(\n",
    "    df\n",
    "    .index\n",
    "    .duplicated()\n",
    "    .sum()\n",
    ")"
   ]
  },
  {
   "attachments": {},
   "cell_type": "markdown",
   "id": "274bff9e",
   "metadata": {},
   "source": [
    "Counting the number of anomaly events"
   ]
  },
  {
   "cell_type": "code",
   "execution_count": 8,
   "id": "c94b1ba6-01f1-4989-b7e3-a86bc64b89aa",
   "metadata": {},
   "outputs": [
    {
     "data": {
      "text/plain": [
       "<Axes: >"
      ]
     },
     "execution_count": 8,
     "metadata": {},
     "output_type": "execute_result"
    },
    {
     "data": {
      "image/png": "[encoded data removed]",
      "text/plain": [
       "<Figure size 640x480 with 1 Axes>"
      ]
     },
     "metadata": {},
     "output_type": "display_data"
    }
   ],
   "source": [
    "(\n",
    "    df\n",
    "    .is_anomaly\n",
    "    .value_counts()   \n",
    "    .plot(kind=\"bar\", color=[\"blue\",\"red\"])\n",
    ")"
   ]
  },
  {
   "attachments": {},
   "cell_type": "markdown",
   "id": "9054a776",
   "metadata": {},
   "source": [
    "Turn the logic value *True*  and *False* into one and zero respectively."
   ]
  },
  {
   "cell_type": "code",
   "execution_count": 9,
   "id": "0fcff243-ef8c-4d1b-b1bf-0bcb91ecaa7c",
   "metadata": {},
   "outputs": [],
   "source": [
    "mask = {True:1, False:0}\n",
    "limit = int(0.2*len(df))\n",
    "y = df.is_anomaly\n",
    "X = df[['value', 'predicted']]\n",
    "y = y.map(mask)"
   ]
  },
  {
   "attachments": {},
   "cell_type": "markdown",
   "id": "e5c47435",
   "metadata": {},
   "source": [
    "Scaling the data in order to accelerate the convergence during the training"
   ]
  },
  {
   "cell_type": "code",
   "execution_count": 10,
   "id": "804ba772-d214-4d01-97cf-0c36d953861d",
   "metadata": {},
   "outputs": [],
   "source": [
    "#oe = StandardScaler()\n",
    "oe = RobustScaler()\n",
    "X_transformed = oe.fit_transform(X)\n"
   ]
  },
  {
   "attachments": {},
   "cell_type": "markdown",
   "id": "eae32716",
   "metadata": {},
   "source": [
    "We use several clasification algorithms such as Logistic Regression, Support Vector Machine, Decision Tree and Random Forest in order to obtain the best performance. In this case, F1 score is considered instead of the precision and recall because of the trade-off between them. "
   ]
  },
  {
   "cell_type": "code",
   "execution_count": 11,
   "id": "e959637f-1810-4f4b-adbd-5656c644a293",
   "metadata": {},
   "outputs": [],
   "source": [
    "clf_LR = LogisticRegression()\n",
    "clf_SVC = SVC()\n",
    "clf_DT = DecisionTreeClassifier(criterion=\"entropy\",max_depth=20)\n",
    "clf_RF = RandomForestClassifier(criterion=\"entropy\", max_depth=20)\n",
    "\n",
    "object_AL = {\"LR\": clf_LR, \n",
    "             \"SVM\": clf_SVC,\n",
    "             \"DT\": clf_DT,\n",
    "             \"RF\": clf_RF\n",
    "            }\n",
    "\n",
    "metric_result = {}\n"
   ]
  },
  {
   "attachments": {},
   "cell_type": "markdown",
   "id": "772e518f",
   "metadata": {},
   "source": [
    "For the training, we split the data using Time Series Cross-validation "
   ]
  },
  {
   "cell_type": "code",
   "execution_count": 12,
   "id": "5d7c804a-f583-4afa-891a-2734f845f1fc",
   "metadata": {},
   "outputs": [],
   "source": [
    "from sklearn.model_selection import TimeSeriesSplit\n",
    "tscv = TimeSeriesSplit(n_splits=5)\n",
    "\n",
    "def metric_algorithm(clf, X, y):\n",
    "    f1  = []\n",
    "             \n",
    "    for train_index, test_index in tscv.split(X):\n",
    "\n",
    "            X_train, X_test = X[:train_index[-1],:], X[:test_index[-1],:]\n",
    "            y_train, y_test = y[:train_index[-1]], y[:test_index[-1]]\n",
    "            \n",
    "            print(\"Train:\", train_index, \"Test:\", test_index)\n",
    "            clf.fit(X_train,y_train)\n",
    "            y_pred = clf.predict(X_test)\n",
    "            f1.append(f1_score(y_test, y_pred))\n",
    "    return np.mean(f1)\n",
    "  \n"
   ]
  },
  {
   "cell_type": "code",
   "execution_count": 13,
   "id": "dca53f4d-650e-4bd4-a126-ac17fe6cdd36",
   "metadata": {},
   "outputs": [
    {
     "name": "stdout",
     "output_type": "stream",
     "text": [
      "Train: [   0    1    2 ... 2637 2638 2639] Test: [2640 2641 2642 ... 5275 5276 5277]\n",
      "Train: [   0    1    2 ... 5275 5276 5277] Test: [5278 5279 5280 ... 7913 7914 7915]\n",
      "Train: [   0    1    2 ... 7913 7914 7915] Test: [ 7916  7917  7918 ... 10551 10552 10553]\n",
      "Train: [    0     1     2 ... 10551 10552 10553] Test: [10554 10555 10556 ... 13189 13190 13191]\n",
      "Train: [    0     1     2 ... 13189 13190 13191] Test: [13192 13193 13194 ... 15827 15828 15829]\n",
      "Train: [   0    1    2 ... 2637 2638 2639] Test: [2640 2641 2642 ... 5275 5276 5277]\n",
      "Train: [   0    1    2 ... 5275 5276 5277] Test: [5278 5279 5280 ... 7913 7914 7915]\n",
      "Train: [   0    1    2 ... 7913 7914 7915] Test: [ 7916  7917  7918 ... 10551 10552 10553]\n",
      "Train: [    0     1     2 ... 10551 10552 10553] Test: [10554 10555 10556 ... 13189 13190 13191]\n",
      "Train: [    0     1     2 ... 13189 13190 13191] Test: [13192 13193 13194 ... 15827 15828 15829]\n",
      "Train: [   0    1    2 ... 2637 2638 2639] Test: [2640 2641 2642 ... 5275 5276 5277]\n",
      "Train: [   0    1    2 ... 5275 5276 5277] Test: [5278 5279 5280 ... 7913 7914 7915]\n",
      "Train: [   0    1    2 ... 7913 7914 7915] Test: [ 7916  7917  7918 ... 10551 10552 10553]\n",
      "Train: [    0     1     2 ... 10551 10552 10553] Test: [10554 10555 10556 ... 13189 13190 13191]\n",
      "Train: [    0     1     2 ... 13189 13190 13191] Test: [13192 13193 13194 ... 15827 15828 15829]\n",
      "Train: [   0    1    2 ... 2637 2638 2639] Test: [2640 2641 2642 ... 5275 5276 5277]\n",
      "Train: [   0    1    2 ... 5275 5276 5277] Test: [5278 5279 5280 ... 7913 7914 7915]\n",
      "Train: [   0    1    2 ... 7913 7914 7915] Test: [ 7916  7917  7918 ... 10551 10552 10553]\n",
      "Train: [    0     1     2 ... 10551 10552 10553] Test: [10554 10555 10556 ... 13189 13190 13191]\n",
      "Train: [    0     1     2 ... 13189 13190 13191] Test: [13192 13193 13194 ... 15827 15828 15829]\n"
     ]
    },
    {
     "data": {
      "text/html": [
       "<div>\n",
       "<style scoped>\n",
       "    .dataframe tbody tr th:only-of-type {\n",
       "        vertical-align: middle;\n",
       "    }\n",
       "\n",
       "    .dataframe tbody tr th {\n",
       "        vertical-align: top;\n",
       "    }\n",
       "\n",
       "    .dataframe thead th {\n",
       "        text-align: right;\n",
       "    }\n",
       "</style>\n",
       "<table border=\"1\" class=\"dataframe\">\n",
       "  <thead>\n",
       "    <tr style=\"text-align: right;\">\n",
       "      <th></th>\n",
       "      <th>AL</th>\n",
       "      <th>F1</th>\n",
       "    </tr>\n",
       "  </thead>\n",
       "  <tbody>\n",
       "    <tr>\n",
       "      <th>3</th>\n",
       "      <td>RF</td>\n",
       "      <td>0.899459</td>\n",
       "    </tr>\n",
       "    <tr>\n",
       "      <th>2</th>\n",
       "      <td>DT</td>\n",
       "      <td>0.868825</td>\n",
       "    </tr>\n",
       "    <tr>\n",
       "      <th>1</th>\n",
       "      <td>SVM</td>\n",
       "      <td>0.500910</td>\n",
       "    </tr>\n",
       "    <tr>\n",
       "      <th>0</th>\n",
       "      <td>LR</td>\n",
       "      <td>0.486527</td>\n",
       "    </tr>\n",
       "  </tbody>\n",
       "</table>\n",
       "</div>"
      ],
      "text/plain": [
       "    AL        F1\n",
       "3   RF  0.899459\n",
       "2   DT  0.868825\n",
       "1  SVM  0.500910\n",
       "0   LR  0.486527"
      ]
     },
     "execution_count": 13,
     "metadata": {},
     "output_type": "execute_result"
    }
   ],
   "source": [
    "for key, value in object_AL.items():\n",
    "    metric_result[key] = metric_algorithm(value, X_transformed, y) \n",
    "    \n",
    "df_metric = pd.DataFrame(metric_result.items(), columns = [\"AL\",\"F1\"] )    \n",
    "df_metric.sort_values(by  = [\"F1\"],ascending = False)   "
   ]
  },
  {
   "attachments": {},
   "cell_type": "markdown",
   "id": "c19baee0",
   "metadata": {},
   "source": [
    "Based on F1 score we can conclude that Random Forest is the best choice."
   ]
  }
 ],
 "metadata": {
  "kernelspec": {
   "display_name": "Python 3 (ipykernel)",
   "language": "python",
   "name": "python3"
  },
  "language_info": {
   "codemirror_mode": {
    "name": "ipython",
    "version": 3
   },
   "file_extension": ".py",
   "mimetype": "text/x-python",
   "name": "python",
   "nbconvert_exporter": "python",
   "pygments_lexer": "ipython3",
   "version": "3.10.9"
  }
 },
 "nbformat": 4,
 "nbformat_minor": 5
}
